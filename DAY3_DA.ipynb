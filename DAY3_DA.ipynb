{
  "nbformat": 4,
  "nbformat_minor": 0,
  "metadata": {
    "colab": {
      "provenance": [],
      "authorship_tag": "ABX9TyPFieq6poK/MSNAKKjG3Jtx",
      "include_colab_link": true
    },
    "kernelspec": {
      "name": "python3",
      "display_name": "Python 3"
    },
    "language_info": {
      "name": "python"
    }
  },
  "cells": [
    {
      "cell_type": "markdown",
      "metadata": {
        "id": "view-in-github",
        "colab_type": "text"
      },
      "source": [
        "<a href=\"https://colab.research.google.com/github/Sankalpkarn/Data_Analytics/blob/main/DAY3_DA.ipynb\" target=\"_parent\"><img src=\"https://colab.research.google.com/assets/colab-badge.svg\" alt=\"Open In Colab\"/></a>"
      ]
    },
    {
      "cell_type": "code",
      "execution_count": null,
      "metadata": {
        "colab": {
          "base_uri": "https://localhost:8080/"
        },
        "id": "bEP3RsRDkmoN",
        "outputId": "603c58e4-530f-4d17-d7d8-a8a826abf50d"
      },
      "outputs": [
        {
          "output_type": "stream",
          "name": "stdout",
          "text": [
            "[10, 20.5, 'Python', True]\n",
            "<class 'list'>\n"
          ]
        }
      ],
      "source": [
        "a=[10,20.5,'Python',True]\n",
        "print(a)\n",
        "print(type(a))"
      ]
    },
    {
      "cell_type": "code",
      "source": [
        "import numpy as np\n",
        "a=np.array([10,20,30,40,50])\n",
        "print(a)\n",
        "print(type(a))"
      ],
      "metadata": {
        "colab": {
          "base_uri": "https://localhost:8080/"
        },
        "id": "RPikFXpJoy0E",
        "outputId": "efe96ea2-43d5-4b41-a0d8-10812d2107c1"
      },
      "execution_count": null,
      "outputs": [
        {
          "output_type": "stream",
          "name": "stdout",
          "text": [
            "[10 20 30 40 50]\n",
            "<class 'numpy.ndarray'>\n"
          ]
        }
      ]
    },
    {
      "cell_type": "code",
      "source": [
        "#zeroes\n",
        "a=np.zeros((4,2))\n",
        "print(a)"
      ],
      "metadata": {
        "colab": {
          "base_uri": "https://localhost:8080/"
        },
        "id": "maO5A-Wloy4j",
        "outputId": "ad9e0bc6-51b8-43a8-ac07-2f763eeecd6e"
      },
      "execution_count": null,
      "outputs": [
        {
          "output_type": "stream",
          "name": "stdout",
          "text": [
            "[[0. 0.]\n",
            " [0. 0.]\n",
            " [0. 0.]\n",
            " [0. 0.]]\n"
          ]
        }
      ]
    },
    {
      "cell_type": "code",
      "source": [
        "#ones\n",
        "a=np.ones((4,2))\n",
        "print(a)"
      ],
      "metadata": {
        "colab": {
          "base_uri": "https://localhost:8080/"
        },
        "id": "BfdZ4C89oy72",
        "outputId": "227f6d66-fd3c-4b9a-cf81-b69089fc9f38"
      },
      "execution_count": null,
      "outputs": [
        {
          "output_type": "stream",
          "name": "stdout",
          "text": [
            "[[1. 1.]\n",
            " [1. 1.]\n",
            " [1. 1.]\n",
            " [1. 1.]]\n"
          ]
        }
      ]
    },
    {
      "cell_type": "code",
      "source": [
        "a=np.ones((4,2))\n",
        "print(a+32)"
      ],
      "metadata": {
        "colab": {
          "base_uri": "https://localhost:8080/"
        },
        "id": "d2FXmeYWoy97",
        "outputId": "b3a09c1f-7f25-41d4-9d43-33538f95b642"
      },
      "execution_count": null,
      "outputs": [
        {
          "output_type": "stream",
          "name": "stdout",
          "text": [
            "[[33. 33.]\n",
            " [33. 33.]\n",
            " [33. 33.]\n",
            " [33. 33.]]\n"
          ]
        }
      ]
    },
    {
      "cell_type": "code",
      "source": [
        "a=np.ones((4,2))\n",
        "print(a*12)"
      ],
      "metadata": {
        "colab": {
          "base_uri": "https://localhost:8080/"
        },
        "id": "Uo3UveT_oy_0",
        "outputId": "cfc8404f-f766-415b-da68-d81a74f0c957"
      },
      "execution_count": null,
      "outputs": [
        {
          "output_type": "stream",
          "name": "stdout",
          "text": [
            "[[12. 12.]\n",
            " [12. 12.]\n",
            " [12. 12.]\n",
            " [12. 12.]]\n"
          ]
        }
      ]
    },
    {
      "cell_type": "code",
      "source": [
        "#linspace\n",
        "a=np.linspace(0,10,20)\n",
        "print(a)"
      ],
      "metadata": {
        "colab": {
          "base_uri": "https://localhost:8080/"
        },
        "id": "5sxzEMgxozCD",
        "outputId": "a8315696-02ef-44af-8b05-b4a1b277057d"
      },
      "execution_count": null,
      "outputs": [
        {
          "output_type": "stream",
          "name": "stdout",
          "text": [
            "[ 0.          0.52631579  1.05263158  1.57894737  2.10526316  2.63157895\n",
            "  3.15789474  3.68421053  4.21052632  4.73684211  5.26315789  5.78947368\n",
            "  6.31578947  6.84210526  7.36842105  7.89473684  8.42105263  8.94736842\n",
            "  9.47368421 10.        ]\n"
          ]
        }
      ]
    },
    {
      "cell_type": "code",
      "source": [
        "a=np.linspace(0,10,4)\n",
        "print(a)"
      ],
      "metadata": {
        "colab": {
          "base_uri": "https://localhost:8080/"
        },
        "id": "bMTZgU7QozD7",
        "outputId": "d8147828-6c28-46d0-daaf-502e8c751b29"
      },
      "execution_count": null,
      "outputs": [
        {
          "output_type": "stream",
          "name": "stdout",
          "text": [
            "[ 0.          3.33333333  6.66666667 10.        ]\n"
          ]
        }
      ]
    },
    {
      "cell_type": "code",
      "source": [
        "a=np.arange(0,24,2)\n",
        "print(a)"
      ],
      "metadata": {
        "colab": {
          "base_uri": "https://localhost:8080/"
        },
        "id": "RzpgB0KNlPtX",
        "outputId": "534ed495-bd12-4664-e20c-6dd3b4260edd"
      },
      "execution_count": null,
      "outputs": [
        {
          "output_type": "stream",
          "name": "stdout",
          "text": [
            "[ 0  2  4  6  8 10 12 14 16 18 20 22]\n"
          ]
        }
      ]
    },
    {
      "cell_type": "code",
      "source": [
        "a=np.random.random(10)#it will always lies between 0 and 1\n",
        "print(a)"
      ],
      "metadata": {
        "colab": {
          "base_uri": "https://localhost:8080/"
        },
        "id": "jON_Ud7SvpcU",
        "outputId": "6f3f7f11-f751-4b97-8fed-79ed58a75e85"
      },
      "execution_count": null,
      "outputs": [
        {
          "output_type": "stream",
          "name": "stdout",
          "text": [
            "[0.28533415 0.05180803 0.91069075 0.70485754 0.23915749 0.5816935\n",
            " 0.95595342 0.99454433 0.27644917 0.66449753]\n"
          ]
        }
      ]
    },
    {
      "cell_type": "code",
      "source": [
        "a=np.random.random(10)\n",
        "print(a*10)"
      ],
      "metadata": {
        "colab": {
          "base_uri": "https://localhost:8080/"
        },
        "id": "yv5R50agw7er",
        "outputId": "e857547a-b00e-4d40-b227-0ca0d9a478c4"
      },
      "execution_count": null,
      "outputs": [
        {
          "output_type": "stream",
          "name": "stdout",
          "text": [
            "[8.31130625 0.90908735 2.04136646 5.50059062 6.99256779 2.19306019\n",
            " 2.97072285 3.16088541 1.71345818 8.52356171]\n"
          ]
        }
      ]
    },
    {
      "cell_type": "code",
      "source": [
        "a=np.arange(24,dtype=float)#applied only in few cases only, others data type vlaues can't be changed\n",
        "print(a)"
      ],
      "metadata": {
        "colab": {
          "base_uri": "https://localhost:8080/"
        },
        "id": "6WP4lyb8vpfH",
        "outputId": "11519c84-7f57-42e5-a38c-a7f47ddaf6a8"
      },
      "execution_count": null,
      "outputs": [
        {
          "output_type": "stream",
          "name": "stdout",
          "text": [
            "[ 0.  1.  2.  3.  4.  5.  6.  7.  8.  9. 10. 11. 12. 13. 14. 15. 16. 17.\n",
            " 18. 19. 20. 21. 22. 23.]\n"
          ]
        }
      ]
    },
    {
      "cell_type": "code",
      "source": [
        "a=np.full((3,4),5.5)\n",
        "print(a)"
      ],
      "metadata": {
        "colab": {
          "base_uri": "https://localhost:8080/"
        },
        "id": "h1N52Ar6vph_",
        "outputId": "d0528b20-ddc0-42fc-95da-8cb30c63b840"
      },
      "execution_count": null,
      "outputs": [
        {
          "output_type": "stream",
          "name": "stdout",
          "text": [
            "[[5.5 5.5 5.5 5.5]\n",
            " [5.5 5.5 5.5 5.5]\n",
            " [5.5 5.5 5.5 5.5]]\n"
          ]
        }
      ]
    },
    {
      "cell_type": "markdown",
      "source": [
        "#list\n",
        "#tuple\n",
        "#zeros\n",
        "#ones\n",
        "#full\n",
        "#linspace\n",
        "#arange\n",
        "#random.random"
      ],
      "metadata": {
        "id": "gi8_vcuJxPDD"
      }
    },
    {
      "cell_type": "markdown",
      "source": [
        "- create a data with the help of list for 10 different values\n",
        "- create a data with the help of tuple for 5 different values\n",
        "- create a data with the help of zeroes for 3 rows and 5 columns\n",
        "- create a data with the help of ones for 6 rows and 7 columns\n",
        "- create a data with the all element as 44 with full\n",
        "- create a data with the all element as 44 without using full\n",
        "- create a data with the help of linspace and get 20 data points between 12 and 24\n",
        "- create a data with the help of arrange between 15 and 34 with step size 3\n",
        "- create a data with the help of random.random for 25 points"
      ],
      "metadata": {
        "id": "rsKE5fJxxirB"
      }
    },
    {
      "cell_type": "code",
      "source": [
        "#create a data with the help of list for 10 different values\n",
        "a=[10,20.5,'Python',True,25,32.6,'RAM',False,13,'hello']\n",
        "print(a)\n",
        "print(type(a))"
      ],
      "metadata": {
        "colab": {
          "base_uri": "https://localhost:8080/"
        },
        "id": "z_LSWHqvvpkr",
        "outputId": "0b9418bd-7d77-4da2-a968-0b6ae736030b"
      },
      "execution_count": null,
      "outputs": [
        {
          "output_type": "stream",
          "name": "stdout",
          "text": [
            "[10, 20.5, 'Python', True, 25, 32.6, 'RAM', False, 13, 'hello']\n",
            "<class 'list'>\n"
          ]
        }
      ]
    },
    {
      "cell_type": "code",
      "source": [
        "#create a data with the help of tuple for 5 different values\n",
        "a=(1,2,3,4,5)\n",
        "print(a)\n",
        "print(type(a))"
      ],
      "metadata": {
        "colab": {
          "base_uri": "https://localhost:8080/"
        },
        "id": "ejFgK_4cvpnW",
        "outputId": "ee6ef0ec-0576-48e9-ca68-2bb91a203230"
      },
      "execution_count": null,
      "outputs": [
        {
          "output_type": "stream",
          "name": "stdout",
          "text": [
            "(1, 2, 3, 4, 5)\n",
            "<class 'tuple'>\n"
          ]
        }
      ]
    },
    {
      "cell_type": "code",
      "source": [
        "#create a data with the help of zeroes for 3 rows and 5 columns\n",
        "a=np.zeros((3,5))\n",
        "print(a)\n"
      ],
      "metadata": {
        "colab": {
          "base_uri": "https://localhost:8080/"
        },
        "id": "vzvwhky1vpp-",
        "outputId": "9e8e22df-5b7c-4876-c81e-057d72bae902"
      },
      "execution_count": null,
      "outputs": [
        {
          "output_type": "stream",
          "name": "stdout",
          "text": [
            "[[0. 0. 0. 0. 0.]\n",
            " [0. 0. 0. 0. 0.]\n",
            " [0. 0. 0. 0. 0.]]\n"
          ]
        }
      ]
    },
    {
      "cell_type": "code",
      "source": [
        "#create a data with the help of ones for 6 rows and 7 columns\n",
        "a=np.ones((3,5))\n",
        "print(a)"
      ],
      "metadata": {
        "colab": {
          "base_uri": "https://localhost:8080/"
        },
        "id": "k0Df6YYOvptY",
        "outputId": "ef1ffe09-ea29-41f9-b100-99fb4d151fa7"
      },
      "execution_count": null,
      "outputs": [
        {
          "output_type": "stream",
          "name": "stdout",
          "text": [
            "[[1. 1. 1. 1. 1.]\n",
            " [1. 1. 1. 1. 1.]\n",
            " [1. 1. 1. 1. 1.]]\n"
          ]
        }
      ]
    },
    {
      "cell_type": "code",
      "source": [
        "#create a data with the all element as 44 with full\n",
        "a=np.full((3,5),44)\n",
        "print(a)"
      ],
      "metadata": {
        "colab": {
          "base_uri": "https://localhost:8080/"
        },
        "id": "SK5ac_WkzqQ-",
        "outputId": "15f24e41-6757-4c77-a134-e2046822fbe3"
      },
      "execution_count": null,
      "outputs": [
        {
          "output_type": "stream",
          "name": "stdout",
          "text": [
            "[[44 44 44 44 44]\n",
            " [44 44 44 44 44]\n",
            " [44 44 44 44 44]]\n"
          ]
        }
      ]
    },
    {
      "cell_type": "code",
      "source": [
        "#create a data with the all element as 44 without using full\n",
        "a=np.ones((3,5))\n",
        "print(a+43)"
      ],
      "metadata": {
        "colab": {
          "base_uri": "https://localhost:8080/"
        },
        "id": "IgvH1lXJzqTZ",
        "outputId": "f6fbb130-f2bd-4bf7-d358-0871770d3475"
      },
      "execution_count": null,
      "outputs": [
        {
          "output_type": "stream",
          "name": "stdout",
          "text": [
            "[[44. 44. 44. 44. 44.]\n",
            " [44. 44. 44. 44. 44.]\n",
            " [44. 44. 44. 44. 44.]]\n"
          ]
        }
      ]
    },
    {
      "cell_type": "code",
      "source": [
        "#create a data with the help of linspace and get 20 data points between 12 and 24\n",
        "a=np.linspace(12,34,20)\n",
        "print(a)"
      ],
      "metadata": {
        "colab": {
          "base_uri": "https://localhost:8080/"
        },
        "id": "7MP9ky7HzqVu",
        "outputId": "de52783b-ee13-4487-e462-9be91602ae7a"
      },
      "execution_count": null,
      "outputs": [
        {
          "output_type": "stream",
          "name": "stdout",
          "text": [
            "[12.         13.15789474 14.31578947 15.47368421 16.63157895 17.78947368\n",
            " 18.94736842 20.10526316 21.26315789 22.42105263 23.57894737 24.73684211\n",
            " 25.89473684 27.05263158 28.21052632 29.36842105 30.52631579 31.68421053\n",
            " 32.84210526 34.        ]\n"
          ]
        }
      ]
    },
    {
      "cell_type": "code",
      "source": [
        "#create a data with the help of arrange between 15 and 34 with step size 3\n",
        "a=np.arange(15,34,3)\n",
        "print(a)"
      ],
      "metadata": {
        "colab": {
          "base_uri": "https://localhost:8080/"
        },
        "id": "2R2THnPdzqZS",
        "outputId": "31436be4-0646-4d87-cdfd-24b4939161d6"
      },
      "execution_count": null,
      "outputs": [
        {
          "output_type": "stream",
          "name": "stdout",
          "text": [
            "[15 18 21 24 27 30 33]\n"
          ]
        }
      ]
    },
    {
      "cell_type": "code",
      "source": [
        "#create a data with the help of random.random for 25 points\n",
        "a=np.random.random(25)\n",
        "print(a)"
      ],
      "metadata": {
        "colab": {
          "base_uri": "https://localhost:8080/"
        },
        "id": "4GqNiLwj0V3c",
        "outputId": "ee5e950a-f4d8-4304-fcaf-8171fb2d5bd6"
      },
      "execution_count": null,
      "outputs": [
        {
          "output_type": "stream",
          "name": "stdout",
          "text": [
            "[0.25104541 0.80415648 0.38341616 0.09074686 0.07324697 0.64939203\n",
            " 0.16484638 0.20219279 0.19994879 0.93162036 0.92724398 0.54999612\n",
            " 0.96970619 0.95320889 0.09513155 0.67556983 0.75551701 0.04894695\n",
            " 0.89845154 0.61424911 0.84303778 0.83946058 0.06195472 0.28657702\n",
            " 0.22942292]\n"
          ]
        }
      ]
    },
    {
      "cell_type": "code",
      "source": [
        "a=np.array([20,30,40,50,60])\n",
        "print(a)\n",
        "print(a.ndim)\n",
        "print(a.size)\n",
        "print(a.shape)"
      ],
      "metadata": {
        "colab": {
          "base_uri": "https://localhost:8080/"
        },
        "id": "tNOzbQIC0uso",
        "outputId": "9568c459-0376-4e0a-8fe1-c81e80c8b26e"
      },
      "execution_count": null,
      "outputs": [
        {
          "output_type": "stream",
          "name": "stdout",
          "text": [
            "[20 30 40 50 60]\n",
            "1\n",
            "5\n",
            "(5,)\n"
          ]
        }
      ]
    },
    {
      "cell_type": "code",
      "source": [
        "a=np.array([[[20,30,40],\n",
        "            [50,60,70]]])\n",
        "print(a)\n",
        "print(a.ndim)\n",
        "print(a.size)#no. of elements\n",
        "print(a.shape)#it give 1 for no. of arrays"
      ],
      "metadata": {
        "colab": {
          "base_uri": "https://localhost:8080/"
        },
        "id": "d3_ARZ4D36qi",
        "outputId": "ecbb77b0-e7bf-431d-9088-0fd2df3be6a2"
      },
      "execution_count": null,
      "outputs": [
        {
          "output_type": "stream",
          "name": "stdout",
          "text": [
            "[[[20 30 40]\n",
            "  [50 60 70]]]\n",
            "3\n",
            "6\n",
            "(1, 2, 3)\n"
          ]
        }
      ]
    },
    {
      "cell_type": "code",
      "source": [
        "a=np.array([\n",
        "            [[20,30,40],\n",
        "            [50,60,70],\n",
        "            [80,90,100]],\n",
        "            [[20,30,40],\n",
        "            [50,60,70],\n",
        "            [80,90,100]]\n",
        "            ])\n",
        "print(a)\n",
        "print(a.ndim)\n",
        "print(a.size)#no. of elements\n",
        "print(a.shape)#it give 2 for no. of arrays"
      ],
      "metadata": {
        "colab": {
          "base_uri": "https://localhost:8080/"
        },
        "id": "vtzryeyp44P0",
        "outputId": "ee22a497-62ac-412f-e49c-0619b11ebc9e"
      },
      "execution_count": null,
      "outputs": [
        {
          "output_type": "stream",
          "name": "stdout",
          "text": [
            "[[[ 20  30  40]\n",
            "  [ 50  60  70]\n",
            "  [ 80  90 100]]\n",
            "\n",
            " [[ 20  30  40]\n",
            "  [ 50  60  70]\n",
            "  [ 80  90 100]]]\n",
            "3\n",
            "18\n",
            "(2, 3, 3)\n"
          ]
        }
      ]
    },
    {
      "cell_type": "markdown",
      "source": [
        "#Slicing And Indexing"
      ],
      "metadata": {
        "id": "OAQ5SUlG5_T6"
      }
    },
    {
      "cell_type": "code",
      "source": [
        "a=[10,20,30,40,50,60]\n",
        "a[0:3]"
      ],
      "metadata": {
        "id": "p86qtOYR44dM",
        "colab": {
          "base_uri": "https://localhost:8080/"
        },
        "outputId": "7a4ec3c5-e0c1-40b2-b75e-e5820ffc7935"
      },
      "execution_count": 37,
      "outputs": [
        {
          "output_type": "execute_result",
          "data": {
            "text/plain": [
              "[10, 20, 30]"
            ]
          },
          "metadata": {},
          "execution_count": 37
        }
      ]
    },
    {
      "cell_type": "code",
      "source": [
        "a=np.array([10,20,30,40,50,60])\n",
        "a[0:3]"
      ],
      "metadata": {
        "id": "bMcCuGm-44gB",
        "colab": {
          "base_uri": "https://localhost:8080/"
        },
        "outputId": "7e8f6b8e-6c27-4d7b-905b-07d6de7488c5"
      },
      "execution_count": 38,
      "outputs": [
        {
          "output_type": "execute_result",
          "data": {
            "text/plain": [
              "array([10, 20, 30])"
            ]
          },
          "metadata": {},
          "execution_count": 38
        }
      ]
    },
    {
      "cell_type": "code",
      "source": [
        "a=np.array([[10,20,30,],\n",
        "    [40,50,60]])\n",
        "a[0,0]"
      ],
      "metadata": {
        "id": "d54LIRMl44jA",
        "colab": {
          "base_uri": "https://localhost:8080/"
        },
        "outputId": "02c4f0f1-ef29-4e02-f216-aff7f927fc28"
      },
      "execution_count": 44,
      "outputs": [
        {
          "output_type": "execute_result",
          "data": {
            "text/plain": [
              "10"
            ]
          },
          "metadata": {},
          "execution_count": 44
        }
      ]
    },
    {
      "cell_type": "code",
      "source": [
        "a=np.array([[10,20,30,],\n",
        "            [40,50,60]])\n",
        "#10,20\n",
        "a[0,0:2]"
      ],
      "metadata": {
        "id": "btSmKQXL44mR",
        "colab": {
          "base_uri": "https://localhost:8080/"
        },
        "outputId": "da0434bf-c3ff-4334-c216-0c2b852c1e76"
      },
      "execution_count": 53,
      "outputs": [
        {
          "output_type": "execute_result",
          "data": {
            "text/plain": [
              "array([10, 20])"
            ]
          },
          "metadata": {},
          "execution_count": 53
        }
      ]
    },
    {
      "cell_type": "code",
      "source": [
        "a=np.array([[10,20,30,],\n",
        "            [40,50,60]])\n",
        "#10,20\n",
        "#a(r,c)\n",
        "#a(rs:re,cs:ce)s = start & e = end\n",
        "a[0:2,0:2]\n",
        "a[0:2,2:3]"
      ],
      "metadata": {
        "id": "dtgTNlx844pI",
        "colab": {
          "base_uri": "https://localhost:8080/"
        },
        "outputId": "d7ef2229-82fc-4568-a93e-99c2a2e2ef72"
      },
      "execution_count": 55,
      "outputs": [
        {
          "output_type": "execute_result",
          "data": {
            "text/plain": [
              "array([[30],\n",
              "       [60]])"
            ]
          },
          "metadata": {},
          "execution_count": 55
        }
      ]
    },
    {
      "cell_type": "code",
      "source": [],
      "metadata": {
        "id": "vlBdGd8z44rM"
      },
      "execution_count": null,
      "outputs": []
    },
    {
      "cell_type": "code",
      "source": [],
      "metadata": {
        "id": "90p91AAb44yA"
      },
      "execution_count": null,
      "outputs": []
    },
    {
      "cell_type": "code",
      "source": [],
      "metadata": {
        "id": "6CQL3g2P441X"
      },
      "execution_count": null,
      "outputs": []
    }
  ]
}